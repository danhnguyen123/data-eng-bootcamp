{
 "cells": [
  {
   "cell_type": "code",
   "execution_count": 1,
   "metadata": {},
   "outputs": [],
   "source": [
    "from plugins.helper.lark_helper import LarkHelper"
   ]
  },
  {
   "cell_type": "code",
   "execution_count": 2,
   "metadata": {},
   "outputs": [],
   "source": [
    "lark_helper = LarkHelper()"
   ]
  },
  {
   "cell_type": "code",
   "execution_count": 3,
   "metadata": {},
   "outputs": [
    {
     "data": {
      "text/plain": [
       "'t-g2061i3yS272EG5DQAG6XCPRGNLYEO57ROJ2UWTF'"
      ]
     },
     "execution_count": 3,
     "metadata": {},
     "output_type": "execute_result"
    }
   ],
   "source": [
    "lark_helper.get_access_token()"
   ]
  },
  {
   "cell_type": "code",
   "execution_count": 4,
   "metadata": {},
   "outputs": [],
   "source": [
    "data_group = lark_helper.get_group_information(chat_id=\"oc_9801bfa2f0a8831eaa29231438c6c10d\")"
   ]
  },
  {
   "cell_type": "code",
   "execution_count": 5,
   "metadata": {},
   "outputs": [
    {
     "data": {
      "text/plain": [
       "{'code': 0,\n",
       " 'data': {'add_member_permission': 'all_members',\n",
       "  'at_all_permission': 'all_members',\n",
       "  'avatar': 'https://s16-imfile-sg.feishucdn.com/static-resource/v1/v3_00ef_bd65c737-8f85-43a2-80b8-db3757ed8chu~?image_size=100x100&cut_type=&quality=&format=jpeg&sticker_format=.webp',\n",
       "  'bot_count': '1',\n",
       "  'bot_manager_id_list': [],\n",
       "  'chat_mode': 'group',\n",
       "  'chat_status': 'normal',\n",
       "  'chat_tag': 'no_tag',\n",
       "  'chat_type': 'private',\n",
       "  'description': '',\n",
       "  'edit_permission': 'all_members',\n",
       "  'external': False,\n",
       "  'group_message_type': 'chat',\n",
       "  'hide_member_count_setting': 'all_members',\n",
       "  'i18n_names': {'en_us': '', 'ja_jp': '', 'zh_cn': ''},\n",
       "  'join_message_visibility': 'all_members',\n",
       "  'leave_message_visibility': 'only_owner',\n",
       "  'membership_approval': 'no_approval_required',\n",
       "  'moderation_permission': 'all_members',\n",
       "  'name': 'Alert & Notification',\n",
       "  'owner_id': 'ou_dde3a8a846a078a9d7448a38ae4a748a',\n",
       "  'owner_id_type': 'open_id',\n",
       "  'pin_manage_setting': 'all_members',\n",
       "  'restricted_mode_setting': {'download_has_permission_setting': 'all_members',\n",
       "   'message_has_permission_setting': 'all_members',\n",
       "   'screenshot_has_permission_setting': 'all_members',\n",
       "   'status': False},\n",
       "  'share_card_permission': 'allowed',\n",
       "  'tenant_key': '17fca1b2d497977c',\n",
       "  'urgent_setting': 'all_members',\n",
       "  'user_count': '1',\n",
       "  'user_manager_id_list': [],\n",
       "  'video_conference_setting': 'all_members'},\n",
       " 'msg': 'success'}"
      ]
     },
     "execution_count": 5,
     "metadata": {},
     "output_type": "execute_result"
    }
   ],
   "source": [
    "data_group"
   ]
  },
  {
   "cell_type": "code",
   "execution_count": 6,
   "metadata": {},
   "outputs": [
    {
     "data": {
      "text/plain": [
       "dict"
      ]
     },
     "execution_count": 6,
     "metadata": {},
     "output_type": "execute_result"
    }
   ],
   "source": [
    "type(data_group)"
   ]
  },
  {
   "cell_type": "code",
   "execution_count": 7,
   "metadata": {},
   "outputs": [
    {
     "data": {
      "text/plain": [
       "{'add_member_permission': 'all_members',\n",
       " 'at_all_permission': 'all_members',\n",
       " 'avatar': 'https://s16-imfile-sg.feishucdn.com/static-resource/v1/v3_00ef_bd65c737-8f85-43a2-80b8-db3757ed8chu~?image_size=100x100&cut_type=&quality=&format=jpeg&sticker_format=.webp',\n",
       " 'bot_count': '1',\n",
       " 'bot_manager_id_list': [],\n",
       " 'chat_mode': 'group',\n",
       " 'chat_status': 'normal',\n",
       " 'chat_tag': 'no_tag',\n",
       " 'chat_type': 'private',\n",
       " 'description': '',\n",
       " 'edit_permission': 'all_members',\n",
       " 'external': False,\n",
       " 'group_message_type': 'chat',\n",
       " 'hide_member_count_setting': 'all_members',\n",
       " 'i18n_names': {'en_us': '', 'ja_jp': '', 'zh_cn': ''},\n",
       " 'join_message_visibility': 'all_members',\n",
       " 'leave_message_visibility': 'only_owner',\n",
       " 'membership_approval': 'no_approval_required',\n",
       " 'moderation_permission': 'all_members',\n",
       " 'name': 'Alert & Notification',\n",
       " 'owner_id': 'ou_dde3a8a846a078a9d7448a38ae4a748a',\n",
       " 'owner_id_type': 'open_id',\n",
       " 'pin_manage_setting': 'all_members',\n",
       " 'restricted_mode_setting': {'download_has_permission_setting': 'all_members',\n",
       "  'message_has_permission_setting': 'all_members',\n",
       "  'screenshot_has_permission_setting': 'all_members',\n",
       "  'status': False},\n",
       " 'share_card_permission': 'allowed',\n",
       " 'tenant_key': '17fca1b2d497977c',\n",
       " 'urgent_setting': 'all_members',\n",
       " 'user_count': '1',\n",
       " 'user_manager_id_list': [],\n",
       " 'video_conference_setting': 'all_members'}"
      ]
     },
     "execution_count": 7,
     "metadata": {},
     "output_type": "execute_result"
    }
   ],
   "source": [
    "data = data_group.get(\"data\")\n",
    "data"
   ]
  },
  {
   "cell_type": "code",
   "execution_count": 8,
   "metadata": {},
   "outputs": [],
   "source": [
    "import pandas as pd"
   ]
  },
  {
   "cell_type": "code",
   "execution_count": 10,
   "metadata": {},
   "outputs": [
    {
     "data": {
      "text/html": [
       "<div>\n",
       "<style scoped>\n",
       "    .dataframe tbody tr th:only-of-type {\n",
       "        vertical-align: middle;\n",
       "    }\n",
       "\n",
       "    .dataframe tbody tr th {\n",
       "        vertical-align: top;\n",
       "    }\n",
       "\n",
       "    .dataframe thead th {\n",
       "        text-align: right;\n",
       "    }\n",
       "</style>\n",
       "<table border=\"1\" class=\"dataframe\">\n",
       "  <thead>\n",
       "    <tr style=\"text-align: right;\">\n",
       "      <th></th>\n",
       "      <th>add_member_permission</th>\n",
       "      <th>at_all_permission</th>\n",
       "      <th>avatar</th>\n",
       "      <th>bot_count</th>\n",
       "      <th>bot_manager_id_list</th>\n",
       "      <th>chat_mode</th>\n",
       "      <th>chat_status</th>\n",
       "      <th>chat_tag</th>\n",
       "      <th>chat_type</th>\n",
       "      <th>description</th>\n",
       "      <th>...</th>\n",
       "      <th>owner_id</th>\n",
       "      <th>owner_id_type</th>\n",
       "      <th>pin_manage_setting</th>\n",
       "      <th>restricted_mode_setting</th>\n",
       "      <th>share_card_permission</th>\n",
       "      <th>tenant_key</th>\n",
       "      <th>urgent_setting</th>\n",
       "      <th>user_count</th>\n",
       "      <th>user_manager_id_list</th>\n",
       "      <th>video_conference_setting</th>\n",
       "    </tr>\n",
       "  </thead>\n",
       "  <tbody>\n",
       "    <tr>\n",
       "      <th>0</th>\n",
       "      <td>all_members</td>\n",
       "      <td>all_members</td>\n",
       "      <td>https://s16-imfile-sg.feishucdn.com/static-res...</td>\n",
       "      <td>1</td>\n",
       "      <td>[]</td>\n",
       "      <td>group</td>\n",
       "      <td>normal</td>\n",
       "      <td>no_tag</td>\n",
       "      <td>private</td>\n",
       "      <td></td>\n",
       "      <td>...</td>\n",
       "      <td>ou_dde3a8a846a078a9d7448a38ae4a748a</td>\n",
       "      <td>open_id</td>\n",
       "      <td>all_members</td>\n",
       "      <td>{'download_has_permission_setting': 'all_membe...</td>\n",
       "      <td>allowed</td>\n",
       "      <td>17fca1b2d497977c</td>\n",
       "      <td>all_members</td>\n",
       "      <td>1</td>\n",
       "      <td>[]</td>\n",
       "      <td>all_members</td>\n",
       "    </tr>\n",
       "  </tbody>\n",
       "</table>\n",
       "<p>1 rows × 30 columns</p>\n",
       "</div>"
      ],
      "text/plain": [
       "  add_member_permission at_all_permission  \\\n",
       "0           all_members       all_members   \n",
       "\n",
       "                                              avatar bot_count  \\\n",
       "0  https://s16-imfile-sg.feishucdn.com/static-res...         1   \n",
       "\n",
       "  bot_manager_id_list chat_mode chat_status chat_tag chat_type description  \\\n",
       "0                  []     group      normal   no_tag   private               \n",
       "\n",
       "   ...                             owner_id  owner_id_type pin_manage_setting  \\\n",
       "0  ...  ou_dde3a8a846a078a9d7448a38ae4a748a        open_id        all_members   \n",
       "\n",
       "                             restricted_mode_setting share_card_permission  \\\n",
       "0  {'download_has_permission_setting': 'all_membe...               allowed   \n",
       "\n",
       "         tenant_key urgent_setting user_count user_manager_id_list  \\\n",
       "0  17fca1b2d497977c    all_members          1                   []   \n",
       "\n",
       "  video_conference_setting  \n",
       "0              all_members  \n",
       "\n",
       "[1 rows x 30 columns]"
      ]
     },
     "execution_count": 10,
     "metadata": {},
     "output_type": "execute_result"
    }
   ],
   "source": [
    "df = pd.DataFrame([data])\n",
    "df"
   ]
  }
 ],
 "metadata": {
  "kernelspec": {
   "display_name": "Python 3",
   "language": "python",
   "name": "python3"
  },
  "language_info": {
   "codemirror_mode": {
    "name": "ipython",
    "version": 3
   },
   "file_extension": ".py",
   "mimetype": "text/x-python",
   "name": "python",
   "nbconvert_exporter": "python",
   "pygments_lexer": "ipython3",
   "version": "3.10.12"
  }
 },
 "nbformat": 4,
 "nbformat_minor": 2
}
